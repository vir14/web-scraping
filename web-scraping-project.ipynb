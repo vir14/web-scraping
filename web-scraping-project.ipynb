{
 "cells": [
  {
   "cell_type": "markdown",
   "metadata": {},
   "source": [
    "# web-scraping-project\n",
    "\n",
    "Use the \"Run\" button to execute the code."
   ]
  },
  {
   "cell_type": "markdown",
   "metadata": {},
   "source": [
    "## Scraping quotes from BrainyQuote\n"
   ]
  },
  {
   "cell_type": "markdown",
   "metadata": {},
   "source": [
    "Here are steps we follow:\n",
    "outline\n",
    "- we are going to scrape https://www.brainyquote.com/topics\n",
    "- We'll get list of topic .For each topic we will get topic title ,topic page url and first quote about topic\n",
    "- For each topic, we will we get all quotes in topic from topic page \n",
    "- For each quote we will get quote, quote url, author and author url\n",
    "- For each topic we will create csv file\n"
   ]
  },
  {
   "cell_type": "markdown",
   "metadata": {},
   "source": [
    "## Scrape list of topic BrainyQuote\n",
    "- use requests to download page \n",
    "- user BS4 to parse and extract information \n",
    "- convert to pandas dataframe"
   ]
  },
  {
   "cell_type": "code",
   "execution_count": 11,
   "metadata": {},
   "outputs": [],
   "source": [
    "! pip install requests --quiet"
   ]
  },
  {
   "cell_type": "code",
   "execution_count": 12,
   "metadata": {},
   "outputs": [],
   "source": [
    "import requests"
   ]
  },
  {
   "cell_type": "code",
   "execution_count": 13,
   "metadata": {},
   "outputs": [
    {
     "name": "stdout",
     "output_type": "stream",
     "text": [
      "Requirement already satisfied: beautifulsoup4 in /opt/conda/lib/python3.9/site-packages (4.10.0)\r\n",
      "Requirement already satisfied: soupsieve>1.2 in /opt/conda/lib/python3.9/site-packages (from beautifulsoup4) (2.0.1)\r\n"
     ]
    }
   ],
   "source": [
    "! pip install beautifulsoup4"
   ]
  },
  {
   "cell_type": "code",
   "execution_count": 14,
   "metadata": {},
   "outputs": [],
   "source": [
    "from bs4 import BeautifulSoup"
   ]
  },
  {
   "cell_type": "code",
   "execution_count": 15,
   "metadata": {},
   "outputs": [],
   "source": [
    "!pip install pandas --quiet"
   ]
  },
  {
   "cell_type": "code",
   "execution_count": 16,
   "metadata": {},
   "outputs": [],
   "source": [
    "import pandas as pd"
   ]
  },
  {
   "cell_type": "code",
   "execution_count": 25,
   "metadata": {},
   "outputs": [],
   "source": [
    "base_url='https://www.brainyquote.com/topics'\n",
    "response = requests.get(base_url)"
   ]
  },
  {
   "cell_type": "code",
   "execution_count": 26,
   "metadata": {},
   "outputs": [],
   "source": [
    "soup = BeautifulSoup(response.text, 'html.parser')"
   ]
  },
  {
   "cell_type": "code",
   "execution_count": 27,
   "metadata": {},
   "outputs": [],
   "source": [
    "topic_class='topicContentName'"
   ]
  },
  {
   "cell_type": "code",
   "execution_count": 28,
   "metadata": {},
   "outputs": [],
   "source": [
    "topic_name=soup.find_all('span', class_= topic_class)"
   ]
  },
  {
   "cell_type": "code",
   "execution_count": 29,
   "metadata": {},
   "outputs": [],
   "source": [
    "topic_link_class='topicIndexChicklet bq_on_link_cl'"
   ]
  },
  {
   "cell_type": "code",
   "execution_count": 30,
   "metadata": {},
   "outputs": [],
   "source": [
    "topic_link=soup.find_all('a', class_=topic_link_class)"
   ]
  },
  {
   "cell_type": "code",
   "execution_count": 31,
   "metadata": {},
   "outputs": [],
   "source": [
    "def get_topic_page():\n",
    "    base_url='https://www.brainyquote.com/topics'\n",
    "    response = requests.get(base_url)\n",
    "    soup = BeautifulSoup(response.text, 'html.parser')\n",
    "    return soup\n",
    " "
   ]
  },
  {
   "cell_type": "code",
   "execution_count": 32,
   "metadata": {},
   "outputs": [],
   "source": [
    "soup=get_topic_page()"
   ]
  },
  {
   "cell_type": "code",
   "execution_count": 33,
   "metadata": {},
   "outputs": [
    {
     "data": {
      "text/plain": [
       "<a aria-label=\"Search\" class=\"bq-tnav-btn bq-nav-search-icon\" href=\"/search\"><img alt=\"Search\" aria-hidden=\"true\" class=\"s-btn bq-fa-invert\" src=\"/st/img/4724283/fa/search.svg\"/></a>"
      ]
     },
     "execution_count": 33,
     "metadata": {},
     "output_type": "execute_result"
    }
   ],
   "source": [
    "soup.find('a')"
   ]
  },
  {
   "cell_type": "markdown",
   "metadata": {},
   "source": [
    "lets create some helper function"
   ]
  },
  {
   "cell_type": "code",
   "execution_count": 34,
   "metadata": {},
   "outputs": [],
   "source": [
    "def scrape_topic_name(soup):\n",
    "    topic_class='topicContentName'\n",
    "    topic_name=soup.find_all('span', class_= topic_class)\n",
    "    topic_list=[]\n",
    "    for name in topic_name:\n",
    "        topic_list.append(name.text.strip())\n",
    "    return topic_list\n",
    "\n",
    "\n"
   ]
  },
  {
   "cell_type": "markdown",
   "metadata": {},
   "source": [
    "scrape_topic_name can be used to get list of topic names"
   ]
  },
  {
   "cell_type": "code",
   "execution_count": 35,
   "metadata": {},
   "outputs": [],
   "source": [
    "names=scrape_topic_name(soup)"
   ]
  },
  {
   "cell_type": "code",
   "execution_count": 36,
   "metadata": {},
   "outputs": [
    {
     "data": {
      "text/plain": [
       "['Age', 'Alone', 'Amazing', 'Anger', 'Anniversary']"
      ]
     },
     "execution_count": 36,
     "metadata": {},
     "output_type": "execute_result"
    }
   ],
   "source": [
    "names[:5]"
   ]
  },
  {
   "cell_type": "code",
   "execution_count": null,
   "metadata": {},
   "outputs": [],
   "source": []
  },
  {
   "cell_type": "code",
   "execution_count": 37,
   "metadata": {},
   "outputs": [],
   "source": [
    "def scrape_topic_url(soup):\n",
    "    topic_link_class='topicIndexChicklet bq_on_link_cl'\n",
    "    topic_link=soup.find_all('a', class_= topic_link_class)\n",
    "    url_list=[]\n",
    "    for link in topic_link:\n",
    "        url_list.append('https://www.brainyquote.com'+link['href'])\n",
    "    return url_list    \n",
    "        \n"
   ]
  },
  {
   "cell_type": "markdown",
   "metadata": {},
   "source": [
    "Similarly we have define function for url and quote "
   ]
  },
  {
   "cell_type": "code",
   "execution_count": 38,
   "metadata": {},
   "outputs": [],
   "source": [
    "urls=scrape_topic_url(soup)"
   ]
  },
  {
   "cell_type": "code",
   "execution_count": 39,
   "metadata": {},
   "outputs": [
    {
     "data": {
      "text/plain": [
       "['https://www.brainyquote.com/topics/age-quotes',\n",
       " 'https://www.brainyquote.com/topics/alone-quotes',\n",
       " 'https://www.brainyquote.com/topics/amazing-quotes',\n",
       " 'https://www.brainyquote.com/topics/anger-quotes',\n",
       " 'https://www.brainyquote.com/topics/anniversary-quotes']"
      ]
     },
     "execution_count": 39,
     "metadata": {},
     "output_type": "execute_result"
    }
   ],
   "source": [
    "urls[0:5]"
   ]
  },
  {
   "cell_type": "code",
   "execution_count": null,
   "metadata": {},
   "outputs": [],
   "source": []
  },
  {
   "cell_type": "code",
   "execution_count": 40,
   "metadata": {},
   "outputs": [],
   "source": [
    "def scrape_topic_quote(topic_link):\n",
    "    quote_list=[]\n",
    "    for quote in topic_link:\n",
    "        quote_url = requests.get('https://www.brainyquote.com'+quote['href'])\n",
    "        quote_con=quote_url.text\n",
    "        quote_soup = BeautifulSoup(quote_con, 'html.parser')\n",
    "        quotes_text = quote_soup.find_all('a', class_='b-qt')\n",
    "        quote_list.append(quotes_text[0].text.strip())\n",
    "    return quote_list"
   ]
  },
  {
   "cell_type": "code",
   "execution_count": 41,
   "metadata": {},
   "outputs": [],
   "source": [
    "quote = scrape_topic_quote(topic_link)"
   ]
  },
  {
   "cell_type": "code",
   "execution_count": 42,
   "metadata": {},
   "outputs": [
    {
     "data": {
      "text/plain": [
       "[\"You can't help getting older, but you don't have to get old.\",\n",
       " \"I restore myself when I'm alone.\",\n",
       " 'It is amazing what you can accomplish if you do not care who gets the credit.',\n",
       " 'Holding on to anger is like grasping a hot coal with the intent of throwing it at someone else; you are the one who gets burned.',\n",
       " 'May you live all the days of your life.']"
      ]
     },
     "execution_count": 42,
     "metadata": {},
     "output_type": "execute_result"
    }
   ],
   "source": [
    "quote[:5]"
   ]
  },
  {
   "cell_type": "markdown",
   "metadata": {},
   "source": [
    "lets pull all together"
   ]
  },
  {
   "cell_type": "code",
   "execution_count": 43,
   "metadata": {},
   "outputs": [],
   "source": [
    "\n",
    "        \n",
    "def scrape_topic():\n",
    "    movie_url='https://www.brainyquote.com/topics'\n",
    "    response = requests.get(movie_url)\n",
    " \n",
    "    topic_dict={\n",
    "       'name':scrape_topic_name(soup),\n",
    "       'url':scrape_topic_url(soup),\n",
    "       'quote':scrape_topic_quote(topic_link)\n",
    "    }\n",
    "    return pd.DataFrame(topic_dict)\n"
   ]
  },
  {
   "cell_type": "code",
   "execution_count": 44,
   "metadata": {
    "scrolled": false
   },
   "outputs": [
    {
     "data": {
      "text/html": [
       "<div>\n",
       "<style scoped>\n",
       "    .dataframe tbody tr th:only-of-type {\n",
       "        vertical-align: middle;\n",
       "    }\n",
       "\n",
       "    .dataframe tbody tr th {\n",
       "        vertical-align: top;\n",
       "    }\n",
       "\n",
       "    .dataframe thead th {\n",
       "        text-align: right;\n",
       "    }\n",
       "</style>\n",
       "<table border=\"1\" class=\"dataframe\">\n",
       "  <thead>\n",
       "    <tr style=\"text-align: right;\">\n",
       "      <th></th>\n",
       "      <th>name</th>\n",
       "      <th>url</th>\n",
       "      <th>quote</th>\n",
       "    </tr>\n",
       "  </thead>\n",
       "  <tbody>\n",
       "    <tr>\n",
       "      <th>0</th>\n",
       "      <td>Age</td>\n",
       "      <td>https://www.brainyquote.com/topics/age-quotes</td>\n",
       "      <td>You can't help getting older, but you don't ha...</td>\n",
       "    </tr>\n",
       "    <tr>\n",
       "      <th>1</th>\n",
       "      <td>Alone</td>\n",
       "      <td>https://www.brainyquote.com/topics/alone-quotes</td>\n",
       "      <td>I restore myself when I'm alone.</td>\n",
       "    </tr>\n",
       "    <tr>\n",
       "      <th>2</th>\n",
       "      <td>Amazing</td>\n",
       "      <td>https://www.brainyquote.com/topics/amazing-quotes</td>\n",
       "      <td>It is amazing what you can accomplish if you d...</td>\n",
       "    </tr>\n",
       "    <tr>\n",
       "      <th>3</th>\n",
       "      <td>Anger</td>\n",
       "      <td>https://www.brainyquote.com/topics/anger-quotes</td>\n",
       "      <td>Holding on to anger is like grasping a hot coa...</td>\n",
       "    </tr>\n",
       "    <tr>\n",
       "      <th>4</th>\n",
       "      <td>Anniversary</td>\n",
       "      <td>https://www.brainyquote.com/topics/anniversary...</td>\n",
       "      <td>May you live all the days of your life.</td>\n",
       "    </tr>\n",
       "    <tr>\n",
       "      <th>...</th>\n",
       "      <td>...</td>\n",
       "      <td>...</td>\n",
       "      <td>...</td>\n",
       "    </tr>\n",
       "    <tr>\n",
       "      <th>120</th>\n",
       "      <td>War</td>\n",
       "      <td>https://www.brainyquote.com/topics/war-quotes</td>\n",
       "      <td>Know thy self, know thy enemy. A thousand batt...</td>\n",
       "    </tr>\n",
       "    <tr>\n",
       "      <th>121</th>\n",
       "      <td>Wedding</td>\n",
       "      <td>https://www.brainyquote.com/topics/wedding-quotes</td>\n",
       "      <td>My father always wanted to be the corpse at ev...</td>\n",
       "    </tr>\n",
       "    <tr>\n",
       "      <th>122</th>\n",
       "      <td>Wisdom</td>\n",
       "      <td>https://www.brainyquote.com/topics/wisdom-quotes</td>\n",
       "      <td>The journey of a thousand miles begins with on...</td>\n",
       "    </tr>\n",
       "    <tr>\n",
       "      <th>123</th>\n",
       "      <td>Women</td>\n",
       "      <td>https://www.brainyquote.com/topics/women-quotes</td>\n",
       "      <td>A woman is like a tea bag - you can't tell how...</td>\n",
       "    </tr>\n",
       "    <tr>\n",
       "      <th>124</th>\n",
       "      <td>Work</td>\n",
       "      <td>https://www.brainyquote.com/topics/work-quotes</td>\n",
       "      <td>Whatever your life's work is, do it well. A ma...</td>\n",
       "    </tr>\n",
       "  </tbody>\n",
       "</table>\n",
       "<p>125 rows × 3 columns</p>\n",
       "</div>"
      ],
      "text/plain": [
       "            name                                                url  \\\n",
       "0            Age      https://www.brainyquote.com/topics/age-quotes   \n",
       "1          Alone    https://www.brainyquote.com/topics/alone-quotes   \n",
       "2        Amazing  https://www.brainyquote.com/topics/amazing-quotes   \n",
       "3          Anger    https://www.brainyquote.com/topics/anger-quotes   \n",
       "4    Anniversary  https://www.brainyquote.com/topics/anniversary...   \n",
       "..           ...                                                ...   \n",
       "120          War      https://www.brainyquote.com/topics/war-quotes   \n",
       "121      Wedding  https://www.brainyquote.com/topics/wedding-quotes   \n",
       "122       Wisdom   https://www.brainyquote.com/topics/wisdom-quotes   \n",
       "123        Women    https://www.brainyquote.com/topics/women-quotes   \n",
       "124         Work     https://www.brainyquote.com/topics/work-quotes   \n",
       "\n",
       "                                                 quote  \n",
       "0    You can't help getting older, but you don't ha...  \n",
       "1                     I restore myself when I'm alone.  \n",
       "2    It is amazing what you can accomplish if you d...  \n",
       "3    Holding on to anger is like grasping a hot coa...  \n",
       "4              May you live all the days of your life.  \n",
       "..                                                 ...  \n",
       "120  Know thy self, know thy enemy. A thousand batt...  \n",
       "121  My father always wanted to be the corpse at ev...  \n",
       "122  The journey of a thousand miles begins with on...  \n",
       "123  A woman is like a tea bag - you can't tell how...  \n",
       "124  Whatever your life's work is, do it well. A ma...  \n",
       "\n",
       "[125 rows x 3 columns]"
      ]
     },
     "execution_count": 44,
     "metadata": {},
     "output_type": "execute_result"
    }
   ],
   "source": [
    "scrape_topic()"
   ]
  },
  {
   "cell_type": "code",
   "execution_count": 62,
   "metadata": {},
   "outputs": [],
   "source": [
    "topic_csv=scrape_topic()\n",
    "topic_csv.to_csv('topic.csv', index=None)"
   ]
  },
  {
   "cell_type": "markdown",
   "metadata": {},
   "source": [
    "## Get the quote from the topic page \n",
    "\n",
    "- We are going to make function to get quote , quote url , author and author url for each topic"
   ]
  },
  {
   "cell_type": "code",
   "execution_count": 47,
   "metadata": {},
   "outputs": [],
   "source": [
    "def get_repo_info(quotes, author):\n",
    "    quote=quotes.text.strip()\n",
    "    quote_url='https://www.brainyquote.com'+quotes['href']\n",
    "    name=author.text.strip()\n",
    "    name_url='https://www.brainyquote.com'+author['href']\n",
    "    return quote,quote_url, name, name_url"
   ]
  },
  {
   "cell_type": "markdown",
   "metadata": {},
   "source": [
    "## We are going to make a make faunction that take topic_url and create pandas datafarme"
   ]
  },
  {
   "cell_type": "code",
   "execution_count": 48,
   "metadata": {},
   "outputs": [],
   "source": [
    "def get_repo_link(topic_url):\n",
    "    quote_url = requests.get(topic_url)\n",
    "    quote_con=quote_url.text\n",
    "    quote_soup=BeautifulSoup(quote_con, 'html.parser')\n",
    "    quotes_text = quote_soup.find_all('a', class_='b-qt')\n",
    "    quote_author = quote_soup.find_all('a', class_='bq-aut')\n",
    "    topic_repo_dict={\n",
    "    'quote': [],\n",
    "    'quote_url':[],\n",
    "    'author':[],\n",
    "    'author_url':[],\n",
    "    }\n",
    "    for i in range(len(quote_author)):\n",
    "        repo_info=get_repo_info(quotes_text[i],quote_author[i])\n",
    "        topic_repo_dict['quote'].append(repo_info[0])\n",
    "        topic_repo_dict['quote_url'].append(repo_info[1])\n",
    "        topic_repo_dict['author'].append(repo_info[2])\n",
    "        topic_repo_dict['author_url'].append(repo_info[3])\n",
    "    return pd.DataFrame(topic_repo_dict)\n",
    " "
   ]
  },
  {
   "cell_type": "code",
   "execution_count": 49,
   "metadata": {
    "scrolled": true
   },
   "outputs": [
    {
     "data": {
      "text/html": [
       "<div>\n",
       "<style scoped>\n",
       "    .dataframe tbody tr th:only-of-type {\n",
       "        vertical-align: middle;\n",
       "    }\n",
       "\n",
       "    .dataframe tbody tr th {\n",
       "        vertical-align: top;\n",
       "    }\n",
       "\n",
       "    .dataframe thead th {\n",
       "        text-align: right;\n",
       "    }\n",
       "</style>\n",
       "<table border=\"1\" class=\"dataframe\">\n",
       "  <thead>\n",
       "    <tr style=\"text-align: right;\">\n",
       "      <th></th>\n",
       "      <th>quote</th>\n",
       "      <th>quote_url</th>\n",
       "      <th>author</th>\n",
       "      <th>author_url</th>\n",
       "    </tr>\n",
       "  </thead>\n",
       "  <tbody>\n",
       "    <tr>\n",
       "      <th>0</th>\n",
       "      <td>I restore myself when I'm alone.</td>\n",
       "      <td>https://www.brainyquote.com/quotes/marilyn_mon...</td>\n",
       "      <td>Marilyn Monroe</td>\n",
       "      <td>https://www.brainyquote.com/authors/marilyn-mo...</td>\n",
       "    </tr>\n",
       "    <tr>\n",
       "      <th>1</th>\n",
       "      <td>Alone we can do so little; together we can do ...</td>\n",
       "      <td>https://www.brainyquote.com/quotes/helen_kelle...</td>\n",
       "      <td>Helen Keller</td>\n",
       "      <td>https://www.brainyquote.com/authors/helen-kell...</td>\n",
       "    </tr>\n",
       "    <tr>\n",
       "      <th>2</th>\n",
       "      <td>The time you feel lonely is the time you most ...</td>\n",
       "      <td>https://www.brainyquote.com/quotes/douglas_cou...</td>\n",
       "      <td>Douglas Coupland</td>\n",
       "      <td>https://www.brainyquote.com/authors/douglas-co...</td>\n",
       "    </tr>\n",
       "    <tr>\n",
       "      <th>3</th>\n",
       "      <td>The strongest man in the world is he who stand...</td>\n",
       "      <td>https://www.brainyquote.com/quotes/henrik_ibse...</td>\n",
       "      <td>Henrik Ibsen</td>\n",
       "      <td>https://www.brainyquote.com/authors/henrik-ibs...</td>\n",
       "    </tr>\n",
       "    <tr>\n",
       "      <th>4</th>\n",
       "      <td>If you are lonely when you're alone, you are i...</td>\n",
       "      <td>https://www.brainyquote.com/quotes/jeanpaul_sa...</td>\n",
       "      <td>Jean-Paul Sartre</td>\n",
       "      <td>https://www.brainyquote.com/authors/jean-paul-...</td>\n",
       "    </tr>\n",
       "    <tr>\n",
       "      <th>5</th>\n",
       "      <td>Loneliness adds beauty to life. It puts a spec...</td>\n",
       "      <td>https://www.brainyquote.com/quotes/henry_rolli...</td>\n",
       "      <td>Henry Rollins</td>\n",
       "      <td>https://www.brainyquote.com/authors/henry-roll...</td>\n",
       "    </tr>\n",
       "    <tr>\n",
       "      <th>6</th>\n",
       "      <td>It is far better to be alone, than to be in ba...</td>\n",
       "      <td>https://www.brainyquote.com/quotes/george_wash...</td>\n",
       "      <td>George Washington</td>\n",
       "      <td>https://www.brainyquote.com/authors/george-was...</td>\n",
       "    </tr>\n",
       "    <tr>\n",
       "      <th>7</th>\n",
       "      <td>Solitude vivifies; isolation kills.</td>\n",
       "      <td>https://www.brainyquote.com/quotes/joseph_roux...</td>\n",
       "      <td>Joseph Roux</td>\n",
       "      <td>https://www.brainyquote.com/authors/joseph-rou...</td>\n",
       "    </tr>\n",
       "    <tr>\n",
       "      <th>8</th>\n",
       "      <td>You only grow when you are alone.</td>\n",
       "      <td>https://www.brainyquote.com/quotes/paul_newman...</td>\n",
       "      <td>Paul Newman</td>\n",
       "      <td>https://www.brainyquote.com/authors/paul-newma...</td>\n",
       "    </tr>\n",
       "    <tr>\n",
       "      <th>9</th>\n",
       "      <td>Let your mind alone, and see what happens.</td>\n",
       "      <td>https://www.brainyquote.com/quotes/virgil_thom...</td>\n",
       "      <td>Virgil Thomson</td>\n",
       "      <td>https://www.brainyquote.com/authors/virgil-tho...</td>\n",
       "    </tr>\n",
       "    <tr>\n",
       "      <th>10</th>\n",
       "      <td>Look at the sky. We are not alone. The whole u...</td>\n",
       "      <td>https://www.brainyquote.com/quotes/a_p_j_abdul...</td>\n",
       "      <td>A. P. J. Abdul Kalam</td>\n",
       "      <td>https://www.brainyquote.com/authors/a-p-j-abdu...</td>\n",
       "    </tr>\n",
       "    <tr>\n",
       "      <th>11</th>\n",
       "      <td>Loneliness is my least favorite thing about li...</td>\n",
       "      <td>https://www.brainyquote.com/quotes/anne_hathaw...</td>\n",
       "      <td>Anne Hathaway</td>\n",
       "      <td>https://www.brainyquote.com/authors/anne-hatha...</td>\n",
       "    </tr>\n",
       "    <tr>\n",
       "      <th>12</th>\n",
       "      <td>All men's miseries derive from not being able ...</td>\n",
       "      <td>https://www.brainyquote.com/quotes/blaise_pasc...</td>\n",
       "      <td>Blaise Pascal</td>\n",
       "      <td>https://www.brainyquote.com/authors/blaise-pas...</td>\n",
       "    </tr>\n",
       "    <tr>\n",
       "      <th>13</th>\n",
       "      <td>To live alone is the fate of all great souls.</td>\n",
       "      <td>https://www.brainyquote.com/quotes/arthur_scho...</td>\n",
       "      <td>Arthur Schopenhauer</td>\n",
       "      <td>https://www.brainyquote.com/authors/arthur-sch...</td>\n",
       "    </tr>\n",
       "    <tr>\n",
       "      <th>14</th>\n",
       "      <td>Loneliness is the poverty of self; solitude is...</td>\n",
       "      <td>https://www.brainyquote.com/quotes/may_sarton_...</td>\n",
       "      <td>May Sarton</td>\n",
       "      <td>https://www.brainyquote.com/authors/may-sarton...</td>\n",
       "    </tr>\n",
       "    <tr>\n",
       "      <th>15</th>\n",
       "      <td>When the people you love are gone, you're alone.</td>\n",
       "      <td>https://www.brainyquote.com/quotes/keanu_reeve...</td>\n",
       "      <td>Keanu Reeves</td>\n",
       "      <td>https://www.brainyquote.com/authors/keanu-reev...</td>\n",
       "    </tr>\n",
       "    <tr>\n",
       "      <th>16</th>\n",
       "      <td>If you make friends with yourself you will nev...</td>\n",
       "      <td>https://www.brainyquote.com/quotes/maxwell_mal...</td>\n",
       "      <td>Maxwell Maltz</td>\n",
       "      <td>https://www.brainyquote.com/authors/maxwell-ma...</td>\n",
       "    </tr>\n",
       "    <tr>\n",
       "      <th>17</th>\n",
       "      <td>As I get older I'm more and more comfortable b...</td>\n",
       "      <td>https://www.brainyquote.com/quotes/sienna_mill...</td>\n",
       "      <td>Sienna Miller</td>\n",
       "      <td>https://www.brainyquote.com/authors/sienna-mil...</td>\n",
       "    </tr>\n",
       "    <tr>\n",
       "      <th>18</th>\n",
       "      <td>Every man is born as many men and dies as a si...</td>\n",
       "      <td>https://www.brainyquote.com/quotes/martin_heid...</td>\n",
       "      <td>Martin Heidegger</td>\n",
       "      <td>https://www.brainyquote.com/authors/martin-hei...</td>\n",
       "    </tr>\n",
       "    <tr>\n",
       "      <th>19</th>\n",
       "      <td>Solitude is independence.</td>\n",
       "      <td>https://www.brainyquote.com/quotes/hermann_hes...</td>\n",
       "      <td>Hermann Hesse</td>\n",
       "      <td>https://www.brainyquote.com/authors/hermann-he...</td>\n",
       "    </tr>\n",
       "    <tr>\n",
       "      <th>20</th>\n",
       "      <td>Pray that your loneliness may spur you into fi...</td>\n",
       "      <td>https://www.brainyquote.com/quotes/dag_hammars...</td>\n",
       "      <td>Dag Hammarskjold</td>\n",
       "      <td>https://www.brainyquote.com/authors/dag-hammar...</td>\n",
       "    </tr>\n",
       "    <tr>\n",
       "      <th>21</th>\n",
       "      <td>You cannot be lonely if you like the person yo...</td>\n",
       "      <td>https://www.brainyquote.com/quotes/wayne_dyer_...</td>\n",
       "      <td>Wayne Dyer</td>\n",
       "      <td>https://www.brainyquote.com/authors/wayne-dyer...</td>\n",
       "    </tr>\n",
       "    <tr>\n",
       "      <th>22</th>\n",
       "      <td>You come into the world alone and you go out o...</td>\n",
       "      <td>https://www.brainyquote.com/quotes/emily_carr_...</td>\n",
       "      <td>Emily Carr</td>\n",
       "      <td>https://www.brainyquote.com/authors/emily-carr...</td>\n",
       "    </tr>\n",
       "    <tr>\n",
       "      <th>23</th>\n",
       "      <td>We are all sentenced to solitary confinement i...</td>\n",
       "      <td>https://www.brainyquote.com/quotes/tennessee_w...</td>\n",
       "      <td>Tennessee Williams</td>\n",
       "      <td>https://www.brainyquote.com/authors/tennessee-...</td>\n",
       "    </tr>\n",
       "    <tr>\n",
       "      <th>24</th>\n",
       "      <td>I never said, 'I want to be alone.' I only sai...</td>\n",
       "      <td>https://www.brainyquote.com/quotes/greta_garbo...</td>\n",
       "      <td>Greta Garbo</td>\n",
       "      <td>https://www.brainyquote.com/authors/greta-garb...</td>\n",
       "    </tr>\n",
       "    <tr>\n",
       "      <th>25</th>\n",
       "      <td>To be adult is to be alone.</td>\n",
       "      <td>https://www.brainyquote.com/quotes/jean_rostan...</td>\n",
       "      <td>Jean Rostand</td>\n",
       "      <td>https://www.brainyquote.com/authors/jean-rosta...</td>\n",
       "    </tr>\n",
       "    <tr>\n",
       "      <th>26</th>\n",
       "      <td>The best part about being alone is that you re...</td>\n",
       "      <td>https://www.brainyquote.com/quotes/justin_timb...</td>\n",
       "      <td>Justin Timberlake</td>\n",
       "      <td>https://www.brainyquote.com/authors/justin-tim...</td>\n",
       "    </tr>\n",
       "    <tr>\n",
       "      <th>27</th>\n",
       "      <td>In solitude the mind gains strength and learns...</td>\n",
       "      <td>https://www.brainyquote.com/quotes/laurence_st...</td>\n",
       "      <td>Laurence Sterne</td>\n",
       "      <td>https://www.brainyquote.com/authors/laurence-s...</td>\n",
       "    </tr>\n",
       "    <tr>\n",
       "      <th>28</th>\n",
       "      <td>Life could be wonderful if people would leave ...</td>\n",
       "      <td>https://www.brainyquote.com/quotes/charlie_cha...</td>\n",
       "      <td>Charlie Chaplin</td>\n",
       "      <td>https://www.brainyquote.com/authors/charlie-ch...</td>\n",
       "    </tr>\n",
       "    <tr>\n",
       "      <th>29</th>\n",
       "      <td>I only go out to get me a fresh appetite for b...</td>\n",
       "      <td>https://www.brainyquote.com/quotes/lord_byron_...</td>\n",
       "      <td>Lord Byron</td>\n",
       "      <td>https://www.brainyquote.com/authors/lord-byron...</td>\n",
       "    </tr>\n",
       "    <tr>\n",
       "      <th>30</th>\n",
       "      <td>When everything is lonely I can be my best fri...</td>\n",
       "      <td>https://www.brainyquote.com/quotes/conor_obers...</td>\n",
       "      <td>Conor Oberst</td>\n",
       "      <td>https://www.brainyquote.com/authors/conor-ober...</td>\n",
       "    </tr>\n",
       "    <tr>\n",
       "      <th>31</th>\n",
       "      <td>I have so many different personalities in me a...</td>\n",
       "      <td>https://www.brainyquote.com/quotes/tori_amos_1...</td>\n",
       "      <td>Tori Amos</td>\n",
       "      <td>https://www.brainyquote.com/authors/tori-amos-...</td>\n",
       "    </tr>\n",
       "    <tr>\n",
       "      <th>32</th>\n",
       "      <td>Nothing makes us so lonely as our secrets.</td>\n",
       "      <td>https://www.brainyquote.com/quotes/paul_tourni...</td>\n",
       "      <td>Paul Tournier</td>\n",
       "      <td>https://www.brainyquote.com/authors/paul-tourn...</td>\n",
       "    </tr>\n",
       "    <tr>\n",
       "      <th>33</th>\n",
       "      <td>Inside myself is a place where I live all alon...</td>\n",
       "      <td>https://www.brainyquote.com/quotes/pearl_s_buc...</td>\n",
       "      <td>Pearl S. Buck</td>\n",
       "      <td>https://www.brainyquote.com/authors/pearl-s-bu...</td>\n",
       "    </tr>\n",
       "    <tr>\n",
       "      <th>34</th>\n",
       "      <td>There's a tremendous difference between alone ...</td>\n",
       "      <td>https://www.brainyquote.com/quotes/drew_barrym...</td>\n",
       "      <td>Drew Barrymore</td>\n",
       "      <td>https://www.brainyquote.com/authors/drew-barry...</td>\n",
       "    </tr>\n",
       "    <tr>\n",
       "      <th>35</th>\n",
       "      <td>It is strange to be known so universally and y...</td>\n",
       "      <td>https://www.brainyquote.com/quotes/albert_eins...</td>\n",
       "      <td>Albert Einstein</td>\n",
       "      <td>https://www.brainyquote.com/authors/albert-ein...</td>\n",
       "    </tr>\n",
       "    <tr>\n",
       "      <th>36</th>\n",
       "      <td>Who knows what true loneliness is - not the co...</td>\n",
       "      <td>https://www.brainyquote.com/quotes/joseph_conr...</td>\n",
       "      <td>Joseph Conrad</td>\n",
       "      <td>https://www.brainyquote.com/authors/joseph-con...</td>\n",
       "    </tr>\n",
       "    <tr>\n",
       "      <th>37</th>\n",
       "      <td>I'm fascinated with myself and love hearing th...</td>\n",
       "      <td>https://www.brainyquote.com/quotes/gene_simmon...</td>\n",
       "      <td>Gene Simmons</td>\n",
       "      <td>https://www.brainyquote.com/authors/gene-simmo...</td>\n",
       "    </tr>\n",
       "    <tr>\n",
       "      <th>38</th>\n",
       "      <td>Only the lonely know the way I feel tonight.</td>\n",
       "      <td>https://www.brainyquote.com/quotes/roy_orbison...</td>\n",
       "      <td>Roy Orbison</td>\n",
       "      <td>https://www.brainyquote.com/authors/roy-orbiso...</td>\n",
       "    </tr>\n",
       "    <tr>\n",
       "      <th>39</th>\n",
       "      <td>I would rather be a beggar and single than a q...</td>\n",
       "      <td>https://www.brainyquote.com/quotes/elizabeth_i...</td>\n",
       "      <td>Elizabeth I</td>\n",
       "      <td>https://www.brainyquote.com/authors/elizabeth-...</td>\n",
       "    </tr>\n",
       "    <tr>\n",
       "      <th>40</th>\n",
       "      <td>The lonely become either thoughtful or empty.</td>\n",
       "      <td>https://www.brainyquote.com/quotes/mason_coole...</td>\n",
       "      <td>Mason Cooley</td>\n",
       "      <td>https://www.brainyquote.com/authors/mason-cool...</td>\n",
       "    </tr>\n",
       "    <tr>\n",
       "      <th>41</th>\n",
       "      <td>To go out with the setting sun on an empty bea...</td>\n",
       "      <td>https://www.brainyquote.com/quotes/jeanne_more...</td>\n",
       "      <td>Jeanne Moreau</td>\n",
       "      <td>https://www.brainyquote.com/authors/jeanne-mor...</td>\n",
       "    </tr>\n",
       "    <tr>\n",
       "      <th>42</th>\n",
       "      <td>What a lovely surprise to finally discover how...</td>\n",
       "      <td>https://www.brainyquote.com/quotes/ellen_burst...</td>\n",
       "      <td>Ellen Burstyn</td>\n",
       "      <td>https://www.brainyquote.com/authors/ellen-burs...</td>\n",
       "    </tr>\n",
       "    <tr>\n",
       "      <th>43</th>\n",
       "      <td>A man is born alone and dies alone; and he exp...</td>\n",
       "      <td>https://www.brainyquote.com/quotes/chanakya_39...</td>\n",
       "      <td>Chanakya</td>\n",
       "      <td>https://www.brainyquote.com/authors/chanakya-q...</td>\n",
       "    </tr>\n",
       "    <tr>\n",
       "      <th>44</th>\n",
       "      <td>I was never less alone than when by myself.</td>\n",
       "      <td>https://www.brainyquote.com/quotes/edward_gibb...</td>\n",
       "      <td>Edward Gibbon</td>\n",
       "      <td>https://www.brainyquote.com/authors/edward-gib...</td>\n",
       "    </tr>\n",
       "    <tr>\n",
       "      <th>45</th>\n",
       "      <td>I like my life alone. I mean, I love being wit...</td>\n",
       "      <td>https://www.brainyquote.com/quotes/sarah_silve...</td>\n",
       "      <td>Sarah Silverman</td>\n",
       "      <td>https://www.brainyquote.com/authors/sarah-silv...</td>\n",
       "    </tr>\n",
       "    <tr>\n",
       "      <th>46</th>\n",
       "      <td>Moon! Moon! I am prone before you. Pity me, an...</td>\n",
       "      <td>https://www.brainyquote.com/quotes/amy_lowell_...</td>\n",
       "      <td>Amy Lowell</td>\n",
       "      <td>https://www.brainyquote.com/authors/amy-lowell...</td>\n",
       "    </tr>\n",
       "    <tr>\n",
       "      <th>47</th>\n",
       "      <td>Don't go away. I don't want to be alone. I can...</td>\n",
       "      <td>https://www.brainyquote.com/quotes/arnold_roth...</td>\n",
       "      <td>Arnold Rothstein</td>\n",
       "      <td>https://www.brainyquote.com/authors/arnold-rot...</td>\n",
       "    </tr>\n",
       "    <tr>\n",
       "      <th>48</th>\n",
       "      <td>I want to be with those who know secret things...</td>\n",
       "      <td>https://www.brainyquote.com/quotes/rainer_mari...</td>\n",
       "      <td>Rainer Maria Rilke</td>\n",
       "      <td>https://www.brainyquote.com/authors/rainer-mar...</td>\n",
       "    </tr>\n",
       "    <tr>\n",
       "      <th>49</th>\n",
       "      <td>All of our unhappiness comes from our inabilit...</td>\n",
       "      <td>https://www.brainyquote.com/quotes/jean_de_la_...</td>\n",
       "      <td>Jean de la Bruyere</td>\n",
       "      <td>https://www.brainyquote.com/authors/jean-de-la...</td>\n",
       "    </tr>\n",
       "    <tr>\n",
       "      <th>50</th>\n",
       "      <td>The only real progress lies in learning to be ...</td>\n",
       "      <td>https://www.brainyquote.com/quotes/albert_camu...</td>\n",
       "      <td>Albert Camus</td>\n",
       "      <td>https://www.brainyquote.com/authors/albert-cam...</td>\n",
       "    </tr>\n",
       "    <tr>\n",
       "      <th>51</th>\n",
       "      <td>I may climb perhaps to no great heights, but I...</td>\n",
       "      <td>https://www.brainyquote.com/quotes/cyrano_de_b...</td>\n",
       "      <td>Cyrano de Bergerac</td>\n",
       "      <td>https://www.brainyquote.com/authors/cyrano-de-...</td>\n",
       "    </tr>\n",
       "    <tr>\n",
       "      <th>52</th>\n",
       "      <td>Your actions, and your action alone, determine...</td>\n",
       "      <td>https://www.brainyquote.com/quotes/evelyn_waug...</td>\n",
       "      <td>Evelyn Waugh</td>\n",
       "      <td>https://www.brainyquote.com/authors/evelyn-wau...</td>\n",
       "    </tr>\n",
       "    <tr>\n",
       "      <th>53</th>\n",
       "      <td>Remember we're all in this alone.</td>\n",
       "      <td>https://www.brainyquote.com/quotes/lily_tomlin...</td>\n",
       "      <td>Lily Tomlin</td>\n",
       "      <td>https://www.brainyquote.com/authors/lily-tomli...</td>\n",
       "    </tr>\n",
       "    <tr>\n",
       "      <th>54</th>\n",
       "      <td>It's an interesting combination: Having a grea...</td>\n",
       "      <td>https://www.brainyquote.com/quotes/jodie_foste...</td>\n",
       "      <td>Jodie Foster</td>\n",
       "      <td>https://www.brainyquote.com/authors/jodie-fost...</td>\n",
       "    </tr>\n",
       "    <tr>\n",
       "      <th>55</th>\n",
       "      <td>Solitude is the profoundest fact of the human ...</td>\n",
       "      <td>https://www.brainyquote.com/quotes/octavio_paz...</td>\n",
       "      <td>Octavio Paz</td>\n",
       "      <td>https://www.brainyquote.com/authors/octavio-pa...</td>\n",
       "    </tr>\n",
       "    <tr>\n",
       "      <th>56</th>\n",
       "      <td>If it's true that our species is alone in the ...</td>\n",
       "      <td>https://www.brainyquote.com/quotes/george_carl...</td>\n",
       "      <td>George Carlin</td>\n",
       "      <td>https://www.brainyquote.com/authors/george-car...</td>\n",
       "    </tr>\n",
       "    <tr>\n",
       "      <th>57</th>\n",
       "      <td>I finally faced the fact that it isn't a crime...</td>\n",
       "      <td>https://www.brainyquote.com/quotes/whitney_hou...</td>\n",
       "      <td>Whitney Houston</td>\n",
       "      <td>https://www.brainyquote.com/authors/whitney-ho...</td>\n",
       "    </tr>\n",
       "    <tr>\n",
       "      <th>58</th>\n",
       "      <td>Still and all, why bother? Here's my answer. M...</td>\n",
       "      <td>https://www.brainyquote.com/quotes/kurt_vonneg...</td>\n",
       "      <td>Kurt Vonnegut</td>\n",
       "      <td>https://www.brainyquote.com/authors/kurt-vonne...</td>\n",
       "    </tr>\n",
       "    <tr>\n",
       "      <th>59</th>\n",
       "      <td>I've also seen that great men are often lonely...</td>\n",
       "      <td>https://www.brainyquote.com/quotes/yousuf_kars...</td>\n",
       "      <td>Yousuf Karsh</td>\n",
       "      <td>https://www.brainyquote.com/authors/yousuf-kar...</td>\n",
       "    </tr>\n",
       "  </tbody>\n",
       "</table>\n",
       "</div>"
      ],
      "text/plain": [
       "                                                quote  \\\n",
       "0                    I restore myself when I'm alone.   \n",
       "1   Alone we can do so little; together we can do ...   \n",
       "2   The time you feel lonely is the time you most ...   \n",
       "3   The strongest man in the world is he who stand...   \n",
       "4   If you are lonely when you're alone, you are i...   \n",
       "5   Loneliness adds beauty to life. It puts a spec...   \n",
       "6   It is far better to be alone, than to be in ba...   \n",
       "7                 Solitude vivifies; isolation kills.   \n",
       "8                   You only grow when you are alone.   \n",
       "9          Let your mind alone, and see what happens.   \n",
       "10  Look at the sky. We are not alone. The whole u...   \n",
       "11  Loneliness is my least favorite thing about li...   \n",
       "12  All men's miseries derive from not being able ...   \n",
       "13      To live alone is the fate of all great souls.   \n",
       "14  Loneliness is the poverty of self; solitude is...   \n",
       "15   When the people you love are gone, you're alone.   \n",
       "16  If you make friends with yourself you will nev...   \n",
       "17  As I get older I'm more and more comfortable b...   \n",
       "18  Every man is born as many men and dies as a si...   \n",
       "19                          Solitude is independence.   \n",
       "20  Pray that your loneliness may spur you into fi...   \n",
       "21  You cannot be lonely if you like the person yo...   \n",
       "22  You come into the world alone and you go out o...   \n",
       "23  We are all sentenced to solitary confinement i...   \n",
       "24  I never said, 'I want to be alone.' I only sai...   \n",
       "25                        To be adult is to be alone.   \n",
       "26  The best part about being alone is that you re...   \n",
       "27  In solitude the mind gains strength and learns...   \n",
       "28  Life could be wonderful if people would leave ...   \n",
       "29  I only go out to get me a fresh appetite for b...   \n",
       "30  When everything is lonely I can be my best fri...   \n",
       "31  I have so many different personalities in me a...   \n",
       "32         Nothing makes us so lonely as our secrets.   \n",
       "33  Inside myself is a place where I live all alon...   \n",
       "34  There's a tremendous difference between alone ...   \n",
       "35  It is strange to be known so universally and y...   \n",
       "36  Who knows what true loneliness is - not the co...   \n",
       "37  I'm fascinated with myself and love hearing th...   \n",
       "38       Only the lonely know the way I feel tonight.   \n",
       "39  I would rather be a beggar and single than a q...   \n",
       "40      The lonely become either thoughtful or empty.   \n",
       "41  To go out with the setting sun on an empty bea...   \n",
       "42  What a lovely surprise to finally discover how...   \n",
       "43  A man is born alone and dies alone; and he exp...   \n",
       "44        I was never less alone than when by myself.   \n",
       "45  I like my life alone. I mean, I love being wit...   \n",
       "46  Moon! Moon! I am prone before you. Pity me, an...   \n",
       "47  Don't go away. I don't want to be alone. I can...   \n",
       "48  I want to be with those who know secret things...   \n",
       "49  All of our unhappiness comes from our inabilit...   \n",
       "50  The only real progress lies in learning to be ...   \n",
       "51  I may climb perhaps to no great heights, but I...   \n",
       "52  Your actions, and your action alone, determine...   \n",
       "53                  Remember we're all in this alone.   \n",
       "54  It's an interesting combination: Having a grea...   \n",
       "55  Solitude is the profoundest fact of the human ...   \n",
       "56  If it's true that our species is alone in the ...   \n",
       "57  I finally faced the fact that it isn't a crime...   \n",
       "58  Still and all, why bother? Here's my answer. M...   \n",
       "59  I've also seen that great men are often lonely...   \n",
       "\n",
       "                                            quote_url                author  \\\n",
       "0   https://www.brainyquote.com/quotes/marilyn_mon...        Marilyn Monroe   \n",
       "1   https://www.brainyquote.com/quotes/helen_kelle...          Helen Keller   \n",
       "2   https://www.brainyquote.com/quotes/douglas_cou...      Douglas Coupland   \n",
       "3   https://www.brainyquote.com/quotes/henrik_ibse...          Henrik Ibsen   \n",
       "4   https://www.brainyquote.com/quotes/jeanpaul_sa...      Jean-Paul Sartre   \n",
       "5   https://www.brainyquote.com/quotes/henry_rolli...         Henry Rollins   \n",
       "6   https://www.brainyquote.com/quotes/george_wash...     George Washington   \n",
       "7   https://www.brainyquote.com/quotes/joseph_roux...           Joseph Roux   \n",
       "8   https://www.brainyquote.com/quotes/paul_newman...           Paul Newman   \n",
       "9   https://www.brainyquote.com/quotes/virgil_thom...        Virgil Thomson   \n",
       "10  https://www.brainyquote.com/quotes/a_p_j_abdul...  A. P. J. Abdul Kalam   \n",
       "11  https://www.brainyquote.com/quotes/anne_hathaw...         Anne Hathaway   \n",
       "12  https://www.brainyquote.com/quotes/blaise_pasc...         Blaise Pascal   \n",
       "13  https://www.brainyquote.com/quotes/arthur_scho...   Arthur Schopenhauer   \n",
       "14  https://www.brainyquote.com/quotes/may_sarton_...            May Sarton   \n",
       "15  https://www.brainyquote.com/quotes/keanu_reeve...          Keanu Reeves   \n",
       "16  https://www.brainyquote.com/quotes/maxwell_mal...         Maxwell Maltz   \n",
       "17  https://www.brainyquote.com/quotes/sienna_mill...         Sienna Miller   \n",
       "18  https://www.brainyquote.com/quotes/martin_heid...      Martin Heidegger   \n",
       "19  https://www.brainyquote.com/quotes/hermann_hes...         Hermann Hesse   \n",
       "20  https://www.brainyquote.com/quotes/dag_hammars...      Dag Hammarskjold   \n",
       "21  https://www.brainyquote.com/quotes/wayne_dyer_...            Wayne Dyer   \n",
       "22  https://www.brainyquote.com/quotes/emily_carr_...            Emily Carr   \n",
       "23  https://www.brainyquote.com/quotes/tennessee_w...    Tennessee Williams   \n",
       "24  https://www.brainyquote.com/quotes/greta_garbo...           Greta Garbo   \n",
       "25  https://www.brainyquote.com/quotes/jean_rostan...          Jean Rostand   \n",
       "26  https://www.brainyquote.com/quotes/justin_timb...     Justin Timberlake   \n",
       "27  https://www.brainyquote.com/quotes/laurence_st...       Laurence Sterne   \n",
       "28  https://www.brainyquote.com/quotes/charlie_cha...       Charlie Chaplin   \n",
       "29  https://www.brainyquote.com/quotes/lord_byron_...            Lord Byron   \n",
       "30  https://www.brainyquote.com/quotes/conor_obers...          Conor Oberst   \n",
       "31  https://www.brainyquote.com/quotes/tori_amos_1...             Tori Amos   \n",
       "32  https://www.brainyquote.com/quotes/paul_tourni...         Paul Tournier   \n",
       "33  https://www.brainyquote.com/quotes/pearl_s_buc...         Pearl S. Buck   \n",
       "34  https://www.brainyquote.com/quotes/drew_barrym...        Drew Barrymore   \n",
       "35  https://www.brainyquote.com/quotes/albert_eins...       Albert Einstein   \n",
       "36  https://www.brainyquote.com/quotes/joseph_conr...         Joseph Conrad   \n",
       "37  https://www.brainyquote.com/quotes/gene_simmon...          Gene Simmons   \n",
       "38  https://www.brainyquote.com/quotes/roy_orbison...           Roy Orbison   \n",
       "39  https://www.brainyquote.com/quotes/elizabeth_i...           Elizabeth I   \n",
       "40  https://www.brainyquote.com/quotes/mason_coole...          Mason Cooley   \n",
       "41  https://www.brainyquote.com/quotes/jeanne_more...         Jeanne Moreau   \n",
       "42  https://www.brainyquote.com/quotes/ellen_burst...         Ellen Burstyn   \n",
       "43  https://www.brainyquote.com/quotes/chanakya_39...              Chanakya   \n",
       "44  https://www.brainyquote.com/quotes/edward_gibb...         Edward Gibbon   \n",
       "45  https://www.brainyquote.com/quotes/sarah_silve...       Sarah Silverman   \n",
       "46  https://www.brainyquote.com/quotes/amy_lowell_...            Amy Lowell   \n",
       "47  https://www.brainyquote.com/quotes/arnold_roth...      Arnold Rothstein   \n",
       "48  https://www.brainyquote.com/quotes/rainer_mari...    Rainer Maria Rilke   \n",
       "49  https://www.brainyquote.com/quotes/jean_de_la_...    Jean de la Bruyere   \n",
       "50  https://www.brainyquote.com/quotes/albert_camu...          Albert Camus   \n",
       "51  https://www.brainyquote.com/quotes/cyrano_de_b...    Cyrano de Bergerac   \n",
       "52  https://www.brainyquote.com/quotes/evelyn_waug...          Evelyn Waugh   \n",
       "53  https://www.brainyquote.com/quotes/lily_tomlin...           Lily Tomlin   \n",
       "54  https://www.brainyquote.com/quotes/jodie_foste...          Jodie Foster   \n",
       "55  https://www.brainyquote.com/quotes/octavio_paz...           Octavio Paz   \n",
       "56  https://www.brainyquote.com/quotes/george_carl...         George Carlin   \n",
       "57  https://www.brainyquote.com/quotes/whitney_hou...       Whitney Houston   \n",
       "58  https://www.brainyquote.com/quotes/kurt_vonneg...         Kurt Vonnegut   \n",
       "59  https://www.brainyquote.com/quotes/yousuf_kars...          Yousuf Karsh   \n",
       "\n",
       "                                           author_url  \n",
       "0   https://www.brainyquote.com/authors/marilyn-mo...  \n",
       "1   https://www.brainyquote.com/authors/helen-kell...  \n",
       "2   https://www.brainyquote.com/authors/douglas-co...  \n",
       "3   https://www.brainyquote.com/authors/henrik-ibs...  \n",
       "4   https://www.brainyquote.com/authors/jean-paul-...  \n",
       "5   https://www.brainyquote.com/authors/henry-roll...  \n",
       "6   https://www.brainyquote.com/authors/george-was...  \n",
       "7   https://www.brainyquote.com/authors/joseph-rou...  \n",
       "8   https://www.brainyquote.com/authors/paul-newma...  \n",
       "9   https://www.brainyquote.com/authors/virgil-tho...  \n",
       "10  https://www.brainyquote.com/authors/a-p-j-abdu...  \n",
       "11  https://www.brainyquote.com/authors/anne-hatha...  \n",
       "12  https://www.brainyquote.com/authors/blaise-pas...  \n",
       "13  https://www.brainyquote.com/authors/arthur-sch...  \n",
       "14  https://www.brainyquote.com/authors/may-sarton...  \n",
       "15  https://www.brainyquote.com/authors/keanu-reev...  \n",
       "16  https://www.brainyquote.com/authors/maxwell-ma...  \n",
       "17  https://www.brainyquote.com/authors/sienna-mil...  \n",
       "18  https://www.brainyquote.com/authors/martin-hei...  \n",
       "19  https://www.brainyquote.com/authors/hermann-he...  \n",
       "20  https://www.brainyquote.com/authors/dag-hammar...  \n",
       "21  https://www.brainyquote.com/authors/wayne-dyer...  \n",
       "22  https://www.brainyquote.com/authors/emily-carr...  \n",
       "23  https://www.brainyquote.com/authors/tennessee-...  \n",
       "24  https://www.brainyquote.com/authors/greta-garb...  \n",
       "25  https://www.brainyquote.com/authors/jean-rosta...  \n",
       "26  https://www.brainyquote.com/authors/justin-tim...  \n",
       "27  https://www.brainyquote.com/authors/laurence-s...  \n",
       "28  https://www.brainyquote.com/authors/charlie-ch...  \n",
       "29  https://www.brainyquote.com/authors/lord-byron...  \n",
       "30  https://www.brainyquote.com/authors/conor-ober...  \n",
       "31  https://www.brainyquote.com/authors/tori-amos-...  \n",
       "32  https://www.brainyquote.com/authors/paul-tourn...  \n",
       "33  https://www.brainyquote.com/authors/pearl-s-bu...  \n",
       "34  https://www.brainyquote.com/authors/drew-barry...  \n",
       "35  https://www.brainyquote.com/authors/albert-ein...  \n",
       "36  https://www.brainyquote.com/authors/joseph-con...  \n",
       "37  https://www.brainyquote.com/authors/gene-simmo...  \n",
       "38  https://www.brainyquote.com/authors/roy-orbiso...  \n",
       "39  https://www.brainyquote.com/authors/elizabeth-...  \n",
       "40  https://www.brainyquote.com/authors/mason-cool...  \n",
       "41  https://www.brainyquote.com/authors/jeanne-mor...  \n",
       "42  https://www.brainyquote.com/authors/ellen-burs...  \n",
       "43  https://www.brainyquote.com/authors/chanakya-q...  \n",
       "44  https://www.brainyquote.com/authors/edward-gib...  \n",
       "45  https://www.brainyquote.com/authors/sarah-silv...  \n",
       "46  https://www.brainyquote.com/authors/amy-lowell...  \n",
       "47  https://www.brainyquote.com/authors/arnold-rot...  \n",
       "48  https://www.brainyquote.com/authors/rainer-mar...  \n",
       "49  https://www.brainyquote.com/authors/jean-de-la...  \n",
       "50  https://www.brainyquote.com/authors/albert-cam...  \n",
       "51  https://www.brainyquote.com/authors/cyrano-de-...  \n",
       "52  https://www.brainyquote.com/authors/evelyn-wau...  \n",
       "53  https://www.brainyquote.com/authors/lily-tomli...  \n",
       "54  https://www.brainyquote.com/authors/jodie-fost...  \n",
       "55  https://www.brainyquote.com/authors/octavio-pa...  \n",
       "56  https://www.brainyquote.com/authors/george-car...  \n",
       "57  https://www.brainyquote.com/authors/whitney-ho...  \n",
       "58  https://www.brainyquote.com/authors/kurt-vonne...  \n",
       "59  https://www.brainyquote.com/authors/yousuf-kar...  "
      ]
     },
     "execution_count": 49,
     "metadata": {},
     "output_type": "execute_result"
    }
   ],
   "source": [
    "get_repo_link('https://www.brainyquote.com'+topic_link[1]['href'])"
   ]
  },
  {
   "cell_type": "code",
   "execution_count": 63,
   "metadata": {},
   "outputs": [],
   "source": [
    "\n",
    "for row in topic_link:\n",
    "    pd_df=get_repo_link('https://www.brainyquote.com' +row['href'])\n",
    "    pd_df.to_csv(row.text+'.csv', index=None)\n"
   ]
  },
  {
   "cell_type": "code",
   "execution_count": null,
   "metadata": {},
   "outputs": [],
   "source": []
  },
  {
   "cell_type": "code",
   "execution_count": 64,
   "metadata": {},
   "outputs": [],
   "source": [
    "import jovian"
   ]
  },
  {
   "cell_type": "code",
   "execution_count": 65,
   "metadata": {},
   "outputs": [
    {
     "data": {
      "application/javascript": [
       "window.require && require([\"base/js/namespace\"],function(Jupyter){Jupyter.notebook.save_checkpoint()})"
      ],
      "text/plain": [
       "<IPython.core.display.Javascript object>"
      ]
     },
     "metadata": {},
     "output_type": "display_data"
    },
    {
     "name": "stdout",
     "output_type": "stream",
     "text": [
      "[jovian] Updating notebook \"vir14/web-scraping-project\" on https://jovian.ai\u001b[0m\n",
      "[jovian] Committed successfully! https://jovian.ai/vir14/web-scraping-project\u001b[0m\n"
     ]
    },
    {
     "data": {
      "text/plain": [
       "'https://jovian.ai/vir14/web-scraping-project'"
      ]
     },
     "execution_count": 65,
     "metadata": {},
     "output_type": "execute_result"
    }
   ],
   "source": [
    "jovian.commit()"
   ]
  },
  {
   "cell_type": "code",
   "execution_count": null,
   "metadata": {},
   "outputs": [],
   "source": []
  }
 ],
 "metadata": {
  "kernelspec": {
   "display_name": "Python 3 (ipykernel)",
   "language": "python",
   "name": "python3"
  },
  "language_info": {
   "codemirror_mode": {
    "name": "ipython",
    "version": 3
   },
   "file_extension": ".py",
   "mimetype": "text/x-python",
   "name": "python",
   "nbconvert_exporter": "python",
   "pygments_lexer": "ipython3",
   "version": "3.9.6"
  }
 },
 "nbformat": 4,
 "nbformat_minor": 2
}
